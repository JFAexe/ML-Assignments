{
  "cells": [
    {
      "cell_type": "code",
      "execution_count": 1,
      "metadata": {
        "id": "-kQeYzi1po5n"
      },
      "outputs": [],
      "source": [
        "import numpy as np\n",
        "from scipy.spatial.distance import cdist\n",
        "from sklearn.datasets import load_iris\n",
        "from sklearn.metrics import accuracy_score\n",
        "from sklearn.model_selection import train_test_split"
      ]
    },
    {
      "cell_type": "code",
      "execution_count": 2,
      "metadata": {
        "id": "BGj9finkpwmJ"
      },
      "outputs": [],
      "source": [
        "class Model:\n",
        "    def __init__(self, k):\n",
        "        self.k = k\n",
        "        self.X = None\n",
        "        self.y = None\n",
        "        self.n_classes = None\n",
        "\n",
        "    def fit(self, X, y):\n",
        "        self.X = X\n",
        "        self.y = y\n",
        "        self.n_classes = np.unique(y).size\n",
        "\n",
        "    def kernel(self, r):\n",
        "        return np.exp(-0.5 * (r ** 2)) / np.sqrt(2 * np.pi)\n",
        "\n",
        "    def predict_proba(self, X):\n",
        "        results = []\n",
        "        distances = cdist(X, self.X)\n",
        "        radiuses = np.sort(distances, axis=1)[:, self.k + 1]\n",
        "        for i in range(distances.shape[0]):\n",
        "            dist_row = distances[i]\n",
        "            radius = radiuses[i]\n",
        "            indexes = np.where(dist_row < radius)\n",
        "            distances_lower = dist_row[indexes]\n",
        "            k = self.kernel(distances_lower / radius)\n",
        "            labels = self.y[indexes]\n",
        "            probas = np.zeros(self.n_classes)\n",
        "            for c in range(self.n_classes):\n",
        "                if (labels == c).sum() > 0:\n",
        "                    probas[c] = k[labels == c].sum()\n",
        "            probas /= probas.sum()\n",
        "            results.append(probas)\n",
        "        return results\n",
        "\n",
        "    def predict(self, X):\n",
        "        probas = self.predict_proba(X)\n",
        "        return np.argmax(probas, axis=1)"
      ]
    },
    {
      "cell_type": "code",
      "execution_count": 3,
      "metadata": {
        "id": "JdwNAvtypuDf"
      },
      "outputs": [],
      "source": [
        "data = load_iris()\n",
        "\n",
        "X = data.data\n",
        "y = data.target\n",
        "\n",
        "train_X, test_X, train_y, test_y = train_test_split(X, y, test_size=0.2, shuffle=True, random_state=42)"
      ]
    },
    {
      "cell_type": "code",
      "execution_count": 4,
      "metadata": {
        "id": "SQcxZAwhqM4k"
      },
      "outputs": [],
      "source": [
        "model = Model(3)\n",
        "model.fit(train_X, train_y)"
      ]
    },
    {
      "cell_type": "code",
      "source": [
        "accuracy_score(test_y, model.predict(test_X))"
      ],
      "metadata": {
        "colab": {
          "base_uri": "https://localhost:8080/"
        },
        "id": "wcsqZYhWvmmO",
        "outputId": "6988e479-381a-4dfd-b9aa-5dd10aa4b584"
      },
      "execution_count": 5,
      "outputs": [
        {
          "output_type": "execute_result",
          "data": {
            "text/plain": [
              "1.0"
            ]
          },
          "metadata": {},
          "execution_count": 5
        }
      ]
    }
  ],
  "metadata": {
    "colab": {
      "provenance": []
    },
    "kernelspec": {
      "display_name": "Python 3",
      "name": "python3"
    },
    "language_info": {
      "name": "python"
    }
  },
  "nbformat": 4,
  "nbformat_minor": 0
}