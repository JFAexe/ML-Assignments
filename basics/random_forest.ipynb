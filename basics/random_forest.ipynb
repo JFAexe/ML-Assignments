{
  "nbformat": 4,
  "nbformat_minor": 0,
  "metadata": {
    "colab": {
      "provenance": []
    },
    "kernelspec": {
      "name": "python3",
      "display_name": "Python 3"
    },
    "language_info": {
      "name": "python"
    }
  },
  "cells": [
    {
      "cell_type": "code",
      "execution_count": 1,
      "metadata": {
        "id": "wP0iIewB8pYU"
      },
      "outputs": [],
      "source": [
        "import numpy as np\n",
        "from sklearn.datasets import load_breast_cancer\n",
        "from sklearn.ensemble import RandomForestClassifier\n",
        "from sklearn.tree import DecisionTreeClassifier"
      ]
    },
    {
      "cell_type": "code",
      "source": [
        "class RandomForest():\n",
        "    def __init__(self, n_estimators=50, max_depth=5, max_samples=5, max_features=0.8):\n",
        "        self.trees = []\n",
        "        self.n_estimators = n_estimators\n",
        "        self.max_depth = max_depth\n",
        "        self.max_samples = max_samples\n",
        "        self.max_features = max_features\n",
        "\n",
        "    def fit(self, X, y):\n",
        "        self.trees = []\n",
        "        for i in range(self.n_estimators):\n",
        "            samples = np.random.choice(X.shape[0], size=self.max_samples, replace=True)\n",
        "            tree = DecisionTreeClassifier(max_depth=self.max_depth, max_features=self.max_features)\n",
        "            tree.fit(X[samples], y[samples])\n",
        "            self.trees.append(tree)\n",
        "\n",
        "    def predict(self, X):\n",
        "        predictions = np.zeros((X.shape[0], self.n_estimators))\n",
        "        for i, tree in enumerate(self.trees):\n",
        "            predictions[:, i] = tree.predict(X)\n",
        "        return np.round(np.mean(predictions, axis=1))"
      ],
      "metadata": {
        "id": "PAQi2c6BG2YH"
      },
      "execution_count": 2,
      "outputs": []
    },
    {
      "cell_type": "code",
      "source": [
        "def CrossValidation(model, X, y, n_folds=5):\n",
        "    scores = []\n",
        "    idxs = np.arange(X.shape[0])\n",
        "    np.random.shuffle(idxs)\n",
        "    split_size = idxs.shape[0] // n_folds\n",
        "    for i in range(n_folds):\n",
        "        test_idxs = idxs[i * split_size: (i + 1) * split_size]\n",
        "        train_idxs = [i for i in idxs if i not in test_idxs]\n",
        "        model.fit(X[train_idxs], y[train_idxs])\n",
        "        predictions = model.predict(X[test_idxs])\n",
        "        scores.append(np.mean(predictions == y[test_idxs]))\n",
        "    return np.mean(scores)"
      ],
      "metadata": {
        "id": "rYElSnhLLwlO"
      },
      "execution_count": 3,
      "outputs": []
    },
    {
      "cell_type": "code",
      "source": [
        "data = load_breast_cancer()\n",
        "\n",
        "X = data.data\n",
        "y = data.target"
      ],
      "metadata": {
        "id": "_TmPgS6zW595"
      },
      "execution_count": 4,
      "outputs": []
    },
    {
      "cell_type": "code",
      "source": [
        "CrossValidation(RandomForest(n_estimators=20, max_features=0.6, max_samples=5, max_depth=8), X, y)"
      ],
      "metadata": {
        "colab": {
          "base_uri": "https://localhost:8080/"
        },
        "id": "L_8rNHlCSlva",
        "outputId": "7ab908c4-0275-489a-e202-834c4859f5c8"
      },
      "execution_count": 5,
      "outputs": [
        {
          "output_type": "execute_result",
          "data": {
            "text/plain": [
              "0.9061946902654867"
            ]
          },
          "metadata": {},
          "execution_count": 5
        }
      ]
    },
    {
      "cell_type": "code",
      "source": [
        "CrossValidation(RandomForestClassifier(n_estimators=20, max_features=0.6, max_samples=5, max_depth=8), X, y)"
      ],
      "metadata": {
        "colab": {
          "base_uri": "https://localhost:8080/"
        },
        "id": "Ab78eMiJdbKV",
        "outputId": "41546739-cd7c-4a91-bf72-19d2409b631e"
      },
      "execution_count": 6,
      "outputs": [
        {
          "output_type": "execute_result",
          "data": {
            "text/plain": [
              "0.9185840707964601"
            ]
          },
          "metadata": {},
          "execution_count": 6
        }
      ]
    }
  ]
}